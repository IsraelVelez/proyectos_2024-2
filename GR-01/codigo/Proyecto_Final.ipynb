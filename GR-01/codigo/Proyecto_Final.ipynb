{
  "nbformat": 4,
  "nbformat_minor": 0,
  "metadata": {
    "colab": {
      "provenance": [],
      "collapsed_sections": [
        "cgx4Yv6ScVnp",
        "-7zVI7Xjcfw4",
        "2f5n2wNickXh",
        "6nqR-jYjcqEh",
        "a8pAdD-Jcvty",
        "vQN6B2EOy9bL",
        "NdpnOAHNzTyj",
        "hmtk78oF56bc",
        "sBQi_fLPXNww"
      ],
      "authorship_tag": "ABX9TyN/HdITiRwuQIw/1d1Yrm/h",
      "include_colab_link": true
    },
    "kernelspec": {
      "name": "python3",
      "display_name": "Python 3"
    },
    "language_info": {
      "name": "python"
    }
  },
  "cells": [
    {
      "cell_type": "markdown",
      "metadata": {
        "id": "view-in-github",
        "colab_type": "text"
      },
      "source": [
        "<a href=\"https://colab.research.google.com/github/Alejandro-XIII/Proyecto-Final-SO/blob/main/Proyecto_Final.ipynb\" target=\"_parent\"><img src=\"https://colab.research.google.com/assets/colab-badge.svg\" alt=\"Open In Colab\"/></a>"
      ]
    },
    {
      "cell_type": "markdown",
      "source": [
        "#Scheduling"
      ],
      "metadata": {
        "id": "cgx4Yv6ScVnp"
      }
    },
    {
      "cell_type": "markdown",
      "source": [
        "##FCFS"
      ],
      "metadata": {
        "id": "-7zVI7Xjcfw4"
      }
    },
    {
      "cell_type": "code",
      "execution_count": 2,
      "metadata": {
        "id": "7q5goaWFcQIa"
      },
      "outputs": [],
      "source": [
        "def fcfs(processes):\n",
        "    # Ordena los procesos por tiempo de llegada en orden ascendente\n",
        "    processes_sorted = sorted(processes, key=lambda x: x['arrival_time'])\n",
        "\n",
        "    # Inicializa la lista para almacenar el orden y tiempo de finalización de cada proceso\n",
        "    scheduling = []\n",
        "\n",
        "    # Inicializa el contador de tiempo actual\n",
        "    time = 0\n",
        "\n",
        "    # Itera a través de los procesos ordenados por tiempo de llegada\n",
        "    for process in processes_sorted:\n",
        "        # Incrementa el tiempo actual con el tiempo de ejecución del proceso\n",
        "        time += process['run_time']\n",
        "\n",
        "        # Agrega una tupla con el nombre del proceso y su tiempo de finalización\n",
        "        scheduling.append((process['name'], time))\n",
        "\n",
        "    # Devuelve la lista con el orden y tiempos de finalización de los procesos\n",
        "    return scheduling\n"
      ]
    },
    {
      "cell_type": "markdown",
      "source": [
        "##SJF"
      ],
      "metadata": {
        "id": "2f5n2wNickXh"
      }
    },
    {
      "cell_type": "code",
      "source": [
        "def sjf(processes):\n",
        "    # Crear una copia de los procesos para no modificar la entrada original\n",
        "    processes_remaining = [{'name': p['name'], 'arrival_time': p['arrival_time'], 'run_time': p['run_time']} for p in processes]\n",
        "\n",
        "    # Inicializa la lista para almacenar el orden y tiempo de finalización de cada proceso\n",
        "    scheduling = []\n",
        "\n",
        "    # Inicializa el contador de tiempo actual\n",
        "    time = 0\n",
        "\n",
        "    # Mientras haya procesos restantes por ejecutar\n",
        "    while processes_remaining:\n",
        "        # Filtra los procesos que ya han llegado (arrival_time <= time)\n",
        "        available_processes = [p for p in processes_remaining if p['arrival_time'] <= time]\n",
        "\n",
        "        # Encuentra el proceso con el menor tiempo de ejecución entre los disponibles\n",
        "        shortest_process = min(available_processes, key=lambda x: x['run_time'])\n",
        "\n",
        "        # Incrementa el tiempo actual con el tiempo de ejecución del proceso más corto\n",
        "        time += shortest_process['run_time']\n",
        "\n",
        "        # Remueve el proceso seleccionado de la lista de procesos restantes\n",
        "        processes_remaining.remove(shortest_process)\n",
        "\n",
        "        # Agrega una tupla con el nombre del proceso y su tiempo de finalización\n",
        "        scheduling.append((shortest_process['name'], time))\n",
        "\n",
        "    # Devuelve la lista con el orden y tiempos de finalización de los procesos\n",
        "    return scheduling"
      ],
      "metadata": {
        "id": "b0g3vdQDcoF7"
      },
      "execution_count": 3,
      "outputs": []
    },
    {
      "cell_type": "markdown",
      "source": [
        "##STCF"
      ],
      "metadata": {
        "id": "6nqR-jYjcqEh"
      }
    },
    {
      "cell_type": "code",
      "source": [
        "def stcf(processes):\n",
        "    # Crear una copia de los procesos para no modificar la entrada original\n",
        "    processes_remaining = [{'name': p['name'], 'arrival_time': p['arrival_time'], 'run_time': p['run_time']} for p in processes]\n",
        "\n",
        "    # Obtener el arrival_time más alto para manejar el caso de procesos que llegan más tarde\n",
        "    max_arrival_time = max(processes_remaining, key=lambda p: p['arrival_time'])['arrival_time']\n",
        "\n",
        "    # Inicializa la lista para almacenar el orden y tiempo de finalización de cada proceso\n",
        "    scheduling = []\n",
        "\n",
        "    # Inicializa el contador de tiempo actual\n",
        "    time = 0\n",
        "\n",
        "    # Mientras haya procesos restantes por ejecutar\n",
        "    while processes_remaining:\n",
        "        if time < max_arrival_time:\n",
        "            # Filtra los procesos que ya han llegado (arrival_time <= time)\n",
        "            available_processes = [p for p in processes_remaining if p['arrival_time'] <= time]\n",
        "\n",
        "            # Encuentra el proceso con el menor tiempo de ejecución entre los disponibles\n",
        "            shortest_process = min(available_processes, key=lambda x: x['run_time'])\n",
        "\n",
        "            # Encuentra el siguiente tiempo de llegada de procesos (si existe)\n",
        "            next_arrival_time = min([p['arrival_time'] for p in processes_remaining if p['arrival_time'] > time])\n",
        "\n",
        "            # Si el proceso más corto puede terminar antes del próximo arrival_time\n",
        "            if shortest_process['run_time'] < (next_arrival_time - time):\n",
        "                time += shortest_process['run_time']  # Incrementa el tiempo con el tiempo de ejecución del proceso\n",
        "                processes_remaining.remove(shortest_process)  # Remueve el proceso completado\n",
        "            else:\n",
        "                # Reduce el tiempo restante del proceso más corto\n",
        "                next(p for p in processes_remaining if p['name'] == shortest_process['name'])['run_time'] -= (next_arrival_time - time)\n",
        "                time = next_arrival_time  # Avanza el tiempo al próximo arrival_time\n",
        "\n",
        "            # Actualiza el scheduling según el último proceso ejecutado\n",
        "            if scheduling and scheduling[-1][0] == shortest_process['name']:\n",
        "                scheduling[-1] = (shortest_process['name'], time)  # Actualiza el tiempo del último proceso\n",
        "            else:\n",
        "                scheduling.append((shortest_process['name'], time))  # Agrega el proceso al scheduling\n",
        "        else:\n",
        "            # Si todos los procesos han llegado, ordenar por tiempo de ejecución\n",
        "            processes_sorted = sorted(processes_remaining, key=lambda x: x['run_time'])\n",
        "\n",
        "            # Ejecutar todos los procesos restantes en orden de tiempo de ejecución\n",
        "            for process in processes_sorted:\n",
        "                time += process['run_time']  # Incrementa el tiempo con el tiempo de ejecución del proceso\n",
        "                if scheduling and scheduling[-1][0] == process['name']:\n",
        "                    scheduling[-1] = (process['name'], time)  # Actualiza el tiempo del último proceso\n",
        "                else:\n",
        "                    scheduling.append((process['name'], time))  # Agrega el proceso al scheduling\n",
        "                processes_remaining.remove(process)  # Remueve el proceso completado\n",
        "\n",
        "    # Devuelve la lista con el orden y tiempos de finalización de los procesos\n",
        "    return scheduling\n"
      ],
      "metadata": {
        "id": "mozxnP19cFaM"
      },
      "execution_count": 4,
      "outputs": []
    },
    {
      "cell_type": "markdown",
      "source": [
        "##RR"
      ],
      "metadata": {
        "id": "a8pAdD-Jcvty"
      }
    },
    {
      "cell_type": "code",
      "source": [
        "def rr(processes, quantum):\n",
        "    # Crear una copia de los procesos para no modificar la entrada original\n",
        "    processes_remaining = [{'name': p['name'], 'arrival_time': p['arrival_time'], 'run_time': p['run_time']} for p in processes]\n",
        "\n",
        "    # Lista para almacenar el orden y tiempo de finalización de cada proceso\n",
        "    scheduling = []\n",
        "\n",
        "    # Tiempo actual en el simulador\n",
        "    time = 0\n",
        "\n",
        "    # Cola de procesos listos para ejecutarse\n",
        "    queue = []\n",
        "\n",
        "    # Mientras haya procesos por llegar o procesos en la cola\n",
        "    while processes_remaining or queue:\n",
        "        # Agregar a la cola los procesos que hayan llegado (arrival_time <= tiempo actual)\n",
        "        for process in processes_remaining:\n",
        "            if process['arrival_time'] <= time and process not in queue:\n",
        "                queue.insert(0, process)  # Insertar el proceso al principio de la cola\n",
        "\n",
        "        # Sacar el primer proceso de la cola para ejecutarlo\n",
        "        process = queue.pop(0)\n",
        "\n",
        "        # Si el tiempo restante del proceso es mayor que el quantum\n",
        "        if process['run_time'] > quantum:\n",
        "            process['run_time'] -= quantum  # Reducir el tiempo restante del proceso\n",
        "            time += quantum  # Avanzar el tiempo en el valor del quantum\n",
        "            queue.append(process)  # Volver a poner el proceso al final de la cola\n",
        "        else:\n",
        "            # Ejecutar el proceso completamente si su tiempo restante es menor o igual al quantum\n",
        "            time += process['run_time']  # Avanzar el tiempo en el tiempo restante del proceso\n",
        "            process['run_time'] = 0  # Marcar el proceso como completado\n",
        "\n",
        "        # Registrar el proceso ejecutado con su tiempo de finalización\n",
        "        scheduling.append((process['name'], time))\n",
        "\n",
        "        # Eliminar el proceso de la lista de procesos restantes si ya terminó\n",
        "        processes_remaining = [p for p in processes_remaining if p['name'] != process['name']]\n",
        "\n",
        "    # Retornar la lista con el orden y tiempos de finalización de los procesos\n",
        "    return scheduling"
      ],
      "metadata": {
        "id": "3L3PBTQPc1Vr"
      },
      "execution_count": 5,
      "outputs": []
    },
    {
      "cell_type": "markdown",
      "source": [
        "##Imprimir scheduling"
      ],
      "metadata": {
        "id": "vQN6B2EOy9bL"
      }
    },
    {
      "cell_type": "code",
      "source": [
        "import matplotlib.pyplot as plt\n",
        "import matplotlib.patches as patches\n",
        "\n",
        "# Define un diccionario de colores para cada proceso\n",
        "process_colors = {\n",
        "    'A': 'red',     # Color para el proceso A\n",
        "    'B': 'blue',    # Color para el proceso B\n",
        "    'C': 'green',   # Color para el proceso C\n",
        "    # Agrega más procesos y colores según sea necesario\n",
        "}\n",
        "\n",
        "def plot_scheduling(scheduling, tt, tr):\n",
        "    start_time = 0  # Tiempo inicial de la ejecución\n",
        "    positions = []  # Lista para almacenar las posiciones y duraciones de los procesos\n",
        "    for name, end_time in scheduling:\n",
        "        positions.append((name, start_time, end_time - start_time))  # Calcula la duración del proceso y la guarda\n",
        "        start_time = end_time  # Actualiza el tiempo inicial para el siguiente proceso\n",
        "\n",
        "    fig, ax = plt.subplots(figsize=(10, 2))  # Crea la figura y el eje con un tamaño predefinido\n",
        "    ax.set_xlim(0, scheduling[-1][1])  # Define los límites del eje x según el último tiempo de finalización\n",
        "    ax.set_ylim(0, 1)  # Define los límites del eje y\n",
        "\n",
        "    for name, start, duration in positions:\n",
        "        color = process_colors.get(name, 'gray')  # Obtiene el color del proceso o gris por defecto\n",
        "        rect = patches.Rectangle((start, 0.5), duration, 0.3, edgecolor='black', facecolor=color)  # Crea un rectángulo para representar el proceso\n",
        "        ax.add_patch(rect)  # Añade el rectángulo al gráfico\n",
        "        ax.text(start + duration / 2, 0.65, name, ha='center', va='center', color='white', fontsize=10)  # Añade el texto del nombre del proceso\n",
        "\n",
        "    ax.get_yaxis().set_visible(False)  # Oculta el eje y\n",
        "    ax.set_xlabel(f\"TT: {tt}         TR: {tr}\")  # Muestra el tiempo promedio de turnaround y respuesta como etiqueta del eje x\n",
        "\n",
        "    plt.show()  # Muestra la gráfica"
      ],
      "metadata": {
        "id": "YJp_MAmqtmqk"
      },
      "execution_count": 6,
      "outputs": []
    },
    {
      "cell_type": "markdown",
      "source": [
        "##Tturnaround"
      ],
      "metadata": {
        "id": "NdpnOAHNzTyj"
      }
    },
    {
      "cell_type": "code",
      "source": [
        "def t_turnaround(scheduling, processes):\n",
        "    t_turnaround = 0  # Inicializa el tiempo total de turnaround en 0\n",
        "    for process in processes:\n",
        "        # Recorre la lista de scheduling en orden inverso para encontrar la última ocurrencia del proceso\n",
        "        for name, t_completion in reversed(scheduling):\n",
        "            if name == process['name']:  # Si el nombre coincide con el proceso actual\n",
        "                # Calcula el tiempo de turnaround sumando el tiempo de finalización menos el tiempo de llegada\n",
        "                t_turnaround += t_completion - process['arrival_time']\n",
        "                break  # Rompe el bucle una vez encontrado el proceso\n",
        "    # Retorna el tiempo promedio de turnaround dividiendo entre el número total de procesos\n",
        "    return t_turnaround / len(processes)"
      ],
      "metadata": {
        "id": "KABAYZX1zuy7"
      },
      "execution_count": 7,
      "outputs": []
    },
    {
      "cell_type": "markdown",
      "source": [
        "##Tresponse"
      ],
      "metadata": {
        "id": "hmtk78oF56bc"
      }
    },
    {
      "cell_type": "code",
      "source": [
        "def t_response(scheduling, processes):\n",
        "    t_response = 0  # Inicializa el tiempo total de respuesta en 0\n",
        "    for process in processes:\n",
        "        # Itera sobre la lista de scheduling para encontrar la primera ejecución del proceso\n",
        "        for i in range(len(scheduling)):\n",
        "            if scheduling[i][0] == process['name']:  # Si el nombre coincide con el proceso actual\n",
        "                if i == 0:\n",
        "                    t_firstrun = 0  # Si es el primer proceso en ejecutarse, su tiempo de inicio es 0\n",
        "                else:\n",
        "                    t_firstrun = scheduling[i-1][1]  # Obtiene el tiempo de finalización del proceso anterior\n",
        "                # Calcula el tiempo de respuesta sumando el tiempo de inicio menos el tiempo de llegada\n",
        "                t_response += t_firstrun - process['arrival_time']\n",
        "                break  # Rompe el bucle una vez encontrado el proceso\n",
        "    # Retorna el tiempo promedio de respuesta dividiendo entre el número total de procesos\n",
        "    return t_response / len(processes)"
      ],
      "metadata": {
        "id": "1etMqiK_5_Kd"
      },
      "execution_count": 8,
      "outputs": []
    },
    {
      "cell_type": "markdown",
      "source": [
        "#Modelo"
      ],
      "metadata": {
        "id": "mST8eZUFcXbQ"
      }
    },
    {
      "cell_type": "markdown",
      "source": [
        "##Dependencias"
      ],
      "metadata": {
        "id": "sBQi_fLPXNww"
      }
    },
    {
      "cell_type": "code",
      "source": [
        "# Primero, reinstalar numpy y pandas en versiones estables en Colab.\n",
        "!pip install numpy==1.23.5 pandas==2.2.2\n",
        "\n",
        "# Instalar gymnasium y shimmy, que son más compatibles con versiones recientes de stable-baselines3\n",
        "!pip install gymnasium==0.28.1 shimmy==0.2.1\n",
        "\n",
        "# Instalar la versión más reciente de stable-baselines3\n",
        "!pip install stable-baselines3\n",
        "\n",
        "# Instalar PyTorch, ya que stable-baselines3 necesita esta dependencia\n",
        "!pip install torch==2.5.0"
      ],
      "metadata": {
        "colab": {
          "base_uri": "https://localhost:8080/"
        },
        "id": "amqZdiSkTdvh",
        "outputId": "787215e7-4249-4710-86f8-441e7c88fa88"
      },
      "execution_count": 9,
      "outputs": [
        {
          "output_type": "stream",
          "name": "stdout",
          "text": [
            "Requirement already satisfied: numpy==1.23.5 in /usr/local/lib/python3.10/dist-packages (1.23.5)\n",
            "Requirement already satisfied: pandas==2.2.2 in /usr/local/lib/python3.10/dist-packages (2.2.2)\n",
            "Requirement already satisfied: python-dateutil>=2.8.2 in /usr/local/lib/python3.10/dist-packages (from pandas==2.2.2) (2.8.2)\n",
            "Requirement already satisfied: pytz>=2020.1 in /usr/local/lib/python3.10/dist-packages (from pandas==2.2.2) (2024.2)\n",
            "Requirement already satisfied: tzdata>=2022.7 in /usr/local/lib/python3.10/dist-packages (from pandas==2.2.2) (2024.2)\n",
            "Requirement already satisfied: six>=1.5 in /usr/local/lib/python3.10/dist-packages (from python-dateutil>=2.8.2->pandas==2.2.2) (1.16.0)\n",
            "Collecting gymnasium==0.28.1\n",
            "  Using cached gymnasium-0.28.1-py3-none-any.whl.metadata (9.2 kB)\n",
            "Requirement already satisfied: shimmy==0.2.1 in /usr/local/lib/python3.10/dist-packages (0.2.1)\n",
            "Requirement already satisfied: numpy>=1.21.0 in /usr/local/lib/python3.10/dist-packages (from gymnasium==0.28.1) (1.23.5)\n",
            "Requirement already satisfied: jax-jumpy>=1.0.0 in /usr/local/lib/python3.10/dist-packages (from gymnasium==0.28.1) (1.0.0)\n",
            "Requirement already satisfied: cloudpickle>=1.2.0 in /usr/local/lib/python3.10/dist-packages (from gymnasium==0.28.1) (3.1.0)\n",
            "Requirement already satisfied: typing-extensions>=4.3.0 in /usr/local/lib/python3.10/dist-packages (from gymnasium==0.28.1) (4.12.2)\n",
            "Requirement already satisfied: farama-notifications>=0.0.1 in /usr/local/lib/python3.10/dist-packages (from gymnasium==0.28.1) (0.0.4)\n",
            "Using cached gymnasium-0.28.1-py3-none-any.whl (925 kB)\n",
            "Installing collected packages: gymnasium\n",
            "  Attempting uninstall: gymnasium\n",
            "    Found existing installation: gymnasium 1.0.0\n",
            "    Uninstalling gymnasium-1.0.0:\n",
            "      Successfully uninstalled gymnasium-1.0.0\n",
            "\u001b[31mERROR: pip's dependency resolver does not currently take into account all the packages that are installed. This behaviour is the source of the following dependency conflicts.\n",
            "stable-baselines3 2.4.0 requires gymnasium<1.1.0,>=0.29.1, but you have gymnasium 0.28.1 which is incompatible.\u001b[0m\u001b[31m\n",
            "\u001b[0mSuccessfully installed gymnasium-0.28.1\n",
            "Requirement already satisfied: stable-baselines3 in /usr/local/lib/python3.10/dist-packages (2.4.0)\n",
            "Collecting gymnasium<1.1.0,>=0.29.1 (from stable-baselines3)\n",
            "  Using cached gymnasium-1.0.0-py3-none-any.whl.metadata (9.5 kB)\n",
            "Requirement already satisfied: numpy<2.0,>=1.20 in /usr/local/lib/python3.10/dist-packages (from stable-baselines3) (1.23.5)\n",
            "Requirement already satisfied: torch>=1.13 in /usr/local/lib/python3.10/dist-packages (from stable-baselines3) (2.5.0)\n",
            "Requirement already satisfied: cloudpickle in /usr/local/lib/python3.10/dist-packages (from stable-baselines3) (3.1.0)\n",
            "Requirement already satisfied: pandas in /usr/local/lib/python3.10/dist-packages (from stable-baselines3) (2.2.2)\n",
            "Requirement already satisfied: matplotlib in /usr/local/lib/python3.10/dist-packages (from stable-baselines3) (3.8.0)\n",
            "Requirement already satisfied: typing-extensions>=4.3.0 in /usr/local/lib/python3.10/dist-packages (from gymnasium<1.1.0,>=0.29.1->stable-baselines3) (4.12.2)\n",
            "Requirement already satisfied: farama-notifications>=0.0.1 in /usr/local/lib/python3.10/dist-packages (from gymnasium<1.1.0,>=0.29.1->stable-baselines3) (0.0.4)\n",
            "Requirement already satisfied: filelock in /usr/local/lib/python3.10/dist-packages (from torch>=1.13->stable-baselines3) (3.16.1)\n",
            "Requirement already satisfied: networkx in /usr/local/lib/python3.10/dist-packages (from torch>=1.13->stable-baselines3) (3.4.2)\n",
            "Requirement already satisfied: jinja2 in /usr/local/lib/python3.10/dist-packages (from torch>=1.13->stable-baselines3) (3.1.4)\n",
            "Requirement already satisfied: fsspec in /usr/local/lib/python3.10/dist-packages (from torch>=1.13->stable-baselines3) (2024.10.0)\n",
            "Requirement already satisfied: nvidia-cuda-nvrtc-cu12==12.4.127 in /usr/local/lib/python3.10/dist-packages (from torch>=1.13->stable-baselines3) (12.4.127)\n",
            "Requirement already satisfied: nvidia-cuda-runtime-cu12==12.4.127 in /usr/local/lib/python3.10/dist-packages (from torch>=1.13->stable-baselines3) (12.4.127)\n",
            "Requirement already satisfied: nvidia-cuda-cupti-cu12==12.4.127 in /usr/local/lib/python3.10/dist-packages (from torch>=1.13->stable-baselines3) (12.4.127)\n",
            "Requirement already satisfied: nvidia-cudnn-cu12==9.1.0.70 in /usr/local/lib/python3.10/dist-packages (from torch>=1.13->stable-baselines3) (9.1.0.70)\n",
            "Requirement already satisfied: nvidia-cublas-cu12==12.4.5.8 in /usr/local/lib/python3.10/dist-packages (from torch>=1.13->stable-baselines3) (12.4.5.8)\n",
            "Requirement already satisfied: nvidia-cufft-cu12==11.2.1.3 in /usr/local/lib/python3.10/dist-packages (from torch>=1.13->stable-baselines3) (11.2.1.3)\n",
            "Requirement already satisfied: nvidia-curand-cu12==10.3.5.147 in /usr/local/lib/python3.10/dist-packages (from torch>=1.13->stable-baselines3) (10.3.5.147)\n",
            "Requirement already satisfied: nvidia-cusolver-cu12==11.6.1.9 in /usr/local/lib/python3.10/dist-packages (from torch>=1.13->stable-baselines3) (11.6.1.9)\n",
            "Requirement already satisfied: nvidia-cusparse-cu12==12.3.1.170 in /usr/local/lib/python3.10/dist-packages (from torch>=1.13->stable-baselines3) (12.3.1.170)\n",
            "Requirement already satisfied: nvidia-nccl-cu12==2.21.5 in /usr/local/lib/python3.10/dist-packages (from torch>=1.13->stable-baselines3) (2.21.5)\n",
            "Requirement already satisfied: nvidia-nvtx-cu12==12.4.127 in /usr/local/lib/python3.10/dist-packages (from torch>=1.13->stable-baselines3) (12.4.127)\n",
            "Requirement already satisfied: nvidia-nvjitlink-cu12==12.4.127 in /usr/local/lib/python3.10/dist-packages (from torch>=1.13->stable-baselines3) (12.4.127)\n",
            "Requirement already satisfied: triton==3.1.0 in /usr/local/lib/python3.10/dist-packages (from torch>=1.13->stable-baselines3) (3.1.0)\n",
            "Requirement already satisfied: sympy==1.13.1 in /usr/local/lib/python3.10/dist-packages (from torch>=1.13->stable-baselines3) (1.13.1)\n",
            "Requirement already satisfied: mpmath<1.4,>=1.1.0 in /usr/local/lib/python3.10/dist-packages (from sympy==1.13.1->torch>=1.13->stable-baselines3) (1.3.0)\n",
            "Requirement already satisfied: contourpy>=1.0.1 in /usr/local/lib/python3.10/dist-packages (from matplotlib->stable-baselines3) (1.3.1)\n",
            "Requirement already satisfied: cycler>=0.10 in /usr/local/lib/python3.10/dist-packages (from matplotlib->stable-baselines3) (0.12.1)\n",
            "Requirement already satisfied: fonttools>=4.22.0 in /usr/local/lib/python3.10/dist-packages (from matplotlib->stable-baselines3) (4.55.0)\n",
            "Requirement already satisfied: kiwisolver>=1.0.1 in /usr/local/lib/python3.10/dist-packages (from matplotlib->stable-baselines3) (1.4.7)\n",
            "Requirement already satisfied: packaging>=20.0 in /usr/local/lib/python3.10/dist-packages (from matplotlib->stable-baselines3) (24.2)\n",
            "Requirement already satisfied: pillow>=6.2.0 in /usr/local/lib/python3.10/dist-packages (from matplotlib->stable-baselines3) (11.0.0)\n",
            "Requirement already satisfied: pyparsing>=2.3.1 in /usr/local/lib/python3.10/dist-packages (from matplotlib->stable-baselines3) (3.2.0)\n",
            "Requirement already satisfied: python-dateutil>=2.7 in /usr/local/lib/python3.10/dist-packages (from matplotlib->stable-baselines3) (2.8.2)\n",
            "Requirement already satisfied: pytz>=2020.1 in /usr/local/lib/python3.10/dist-packages (from pandas->stable-baselines3) (2024.2)\n",
            "Requirement already satisfied: tzdata>=2022.7 in /usr/local/lib/python3.10/dist-packages (from pandas->stable-baselines3) (2024.2)\n",
            "Requirement already satisfied: six>=1.5 in /usr/local/lib/python3.10/dist-packages (from python-dateutil>=2.7->matplotlib->stable-baselines3) (1.16.0)\n",
            "Requirement already satisfied: MarkupSafe>=2.0 in /usr/local/lib/python3.10/dist-packages (from jinja2->torch>=1.13->stable-baselines3) (3.0.2)\n",
            "Using cached gymnasium-1.0.0-py3-none-any.whl (958 kB)\n",
            "Installing collected packages: gymnasium\n",
            "  Attempting uninstall: gymnasium\n",
            "    Found existing installation: gymnasium 0.28.1\n",
            "    Uninstalling gymnasium-0.28.1:\n",
            "      Successfully uninstalled gymnasium-0.28.1\n",
            "Successfully installed gymnasium-1.0.0\n",
            "Requirement already satisfied: torch==2.5.0 in /usr/local/lib/python3.10/dist-packages (2.5.0)\n",
            "Requirement already satisfied: filelock in /usr/local/lib/python3.10/dist-packages (from torch==2.5.0) (3.16.1)\n",
            "Requirement already satisfied: typing-extensions>=4.8.0 in /usr/local/lib/python3.10/dist-packages (from torch==2.5.0) (4.12.2)\n",
            "Requirement already satisfied: networkx in /usr/local/lib/python3.10/dist-packages (from torch==2.5.0) (3.4.2)\n",
            "Requirement already satisfied: jinja2 in /usr/local/lib/python3.10/dist-packages (from torch==2.5.0) (3.1.4)\n",
            "Requirement already satisfied: fsspec in /usr/local/lib/python3.10/dist-packages (from torch==2.5.0) (2024.10.0)\n",
            "Requirement already satisfied: nvidia-cuda-nvrtc-cu12==12.4.127 in /usr/local/lib/python3.10/dist-packages (from torch==2.5.0) (12.4.127)\n",
            "Requirement already satisfied: nvidia-cuda-runtime-cu12==12.4.127 in /usr/local/lib/python3.10/dist-packages (from torch==2.5.0) (12.4.127)\n",
            "Requirement already satisfied: nvidia-cuda-cupti-cu12==12.4.127 in /usr/local/lib/python3.10/dist-packages (from torch==2.5.0) (12.4.127)\n",
            "Requirement already satisfied: nvidia-cudnn-cu12==9.1.0.70 in /usr/local/lib/python3.10/dist-packages (from torch==2.5.0) (9.1.0.70)\n",
            "Requirement already satisfied: nvidia-cublas-cu12==12.4.5.8 in /usr/local/lib/python3.10/dist-packages (from torch==2.5.0) (12.4.5.8)\n",
            "Requirement already satisfied: nvidia-cufft-cu12==11.2.1.3 in /usr/local/lib/python3.10/dist-packages (from torch==2.5.0) (11.2.1.3)\n",
            "Requirement already satisfied: nvidia-curand-cu12==10.3.5.147 in /usr/local/lib/python3.10/dist-packages (from torch==2.5.0) (10.3.5.147)\n",
            "Requirement already satisfied: nvidia-cusolver-cu12==11.6.1.9 in /usr/local/lib/python3.10/dist-packages (from torch==2.5.0) (11.6.1.9)\n",
            "Requirement already satisfied: nvidia-cusparse-cu12==12.3.1.170 in /usr/local/lib/python3.10/dist-packages (from torch==2.5.0) (12.3.1.170)\n",
            "Requirement already satisfied: nvidia-nccl-cu12==2.21.5 in /usr/local/lib/python3.10/dist-packages (from torch==2.5.0) (2.21.5)\n",
            "Requirement already satisfied: nvidia-nvtx-cu12==12.4.127 in /usr/local/lib/python3.10/dist-packages (from torch==2.5.0) (12.4.127)\n",
            "Requirement already satisfied: nvidia-nvjitlink-cu12==12.4.127 in /usr/local/lib/python3.10/dist-packages (from torch==2.5.0) (12.4.127)\n",
            "Requirement already satisfied: triton==3.1.0 in /usr/local/lib/python3.10/dist-packages (from torch==2.5.0) (3.1.0)\n",
            "Requirement already satisfied: sympy==1.13.1 in /usr/local/lib/python3.10/dist-packages (from torch==2.5.0) (1.13.1)\n",
            "Requirement already satisfied: mpmath<1.4,>=1.1.0 in /usr/local/lib/python3.10/dist-packages (from sympy==1.13.1->torch==2.5.0) (1.3.0)\n",
            "Requirement already satisfied: MarkupSafe>=2.0 in /usr/local/lib/python3.10/dist-packages (from jinja2->torch==2.5.0) (3.0.2)\n"
          ]
        }
      ]
    },
    {
      "cell_type": "markdown",
      "source": [
        "##Entorno de planificación de procesos"
      ],
      "metadata": {
        "id": "xeJ60g4aXYfH"
      }
    },
    {
      "cell_type": "code",
      "source": [
        "import gym\n",
        "from gym import spaces\n",
        "import numpy as np\n",
        "\n",
        "class ProcessSchedulingEnv(gym.Env):\n",
        "    def __init__(self, processes):\n",
        "        super(ProcessSchedulingEnv, self).__init__()\n",
        "        self.processes = processes  # Lista de procesos con tiempos de llegada y ejecución\n",
        "        self.current_time = 0  # Tiempo actual del entorno\n",
        "        self.execution_history = []  # Historial de todas las ejecuciones realizadas\n",
        "        self.best_execution = []  # Historial de la mejor ejecución encontrada\n",
        "        self.remaining_times = [p['run_time'] for p in processes]  # Lista de tiempos restantes para cada proceso\n",
        "        self.last_process = None  # Nombre del último proceso ejecutado\n",
        "        self.action_space = spaces.Discrete(len(processes))  # Espacio de acciones: índice de un proceso\n",
        "        self.observation_space = spaces.Box(\n",
        "            low=0, high=np.inf, shape=(len(processes),), dtype=np.float32\n",
        "        )  # Espacio de observación: tiempos restantes para cada proceso\n",
        "\n",
        "    def reset(self):  # Reiniciar el entorno\n",
        "        self.current_time = 0  # Reinicia el tiempo actual\n",
        "        self.execution_history = []  # Vacía el historial de ejecuciones\n",
        "        self.remaining_times = [p['run_time'] for p in self.processes]  # Reinicia los tiempos restantes\n",
        "        self.last_process = None  # Limpia el último proceso ejecutado\n",
        "        return np.array(self.remaining_times, dtype=np.float32)  # Devuelve el estado inicial\n",
        "\n",
        "    def step(self, action):  # Ejecutar una acción en el entorno\n",
        "        valid_actions = [\n",
        "            i for i, (rt, p) in enumerate(zip(self.remaining_times, self.processes))\n",
        "            if rt > 0 and self.current_time >= p['arrival_time']\n",
        "        ]  # Identifica acciones válidas según tiempos restantes y de llegada\n",
        "        if valid_actions and action not in valid_actions:\n",
        "            return np.array(self.remaining_times), -100, False, {}  # Penalización por acción inválida\n",
        "\n",
        "        self.remaining_times[action] -= 1  # Disminuye el tiempo restante del proceso seleccionado\n",
        "        self.current_time += 1  # Incrementa el tiempo actual\n",
        "        if self.last_process != self.processes[action]['name']:  # Si se cambia de proceso\n",
        "            self.execution_history.append((self.processes[action]['name'], self.current_time))  # Registra el cambio\n",
        "            self.last_process = self.processes[action]['name']  # Actualiza el último proceso ejecutado\n",
        "        else:\n",
        "            self.execution_history[-1] = (self.execution_history[-1][0], self.current_time)  # Actualiza el último tiempo\n",
        "\n",
        "        done = all(rt <= 0 for rt in self.remaining_times)  # Comprueba si todos los procesos han finalizado\n",
        "        tt = t_turnaround(self.execution_history, self.processes)  # Calcula el Turnaround Time promedio\n",
        "        tr = t_response(self.execution_history, self.processes)  # Calcula el Response Time promedio\n",
        "\n",
        "        if done:  # Si todos los procesos han terminado\n",
        "            if not self.best_execution:  # Si no hay una mejor ejecución registrada\n",
        "                self.best_execution = self.execution_history.copy()  # Guarda el historial actual como mejor ejecución\n",
        "            else:  # Si ya hay una mejor ejecución, la compara\n",
        "                tt_b = t_turnaround(self.best_execution, self.processes)  # TT de la mejor ejecución\n",
        "                tr_b = t_response(self.best_execution, self.processes)  # TR de la mejor ejecución\n",
        "                if (tt + tr) < (tt_b + tr_b):  # Si la ejecución actual es mejor, la reemplaza\n",
        "                    self.best_execution = self.execution_history.copy()\n",
        "\n",
        "        reward = 100 - (tr + tt)  # Calcula la recompensa basada en TT y TR\n",
        "        return np.array(self.remaining_times, dtype=np.float32), reward, done, {}  # Retorna el estado, recompensa y estado final"
      ],
      "metadata": {
        "id": "QP3PUjK7qZjZ"
      },
      "execution_count": 10,
      "outputs": []
    },
    {
      "cell_type": "markdown",
      "source": [
        "##Entrenamiento de modelo PPO"
      ],
      "metadata": {
        "id": "1VQOHeHpb6YJ"
      }
    },
    {
      "cell_type": "code",
      "source": [
        "from stable_baselines3 import PPO\n",
        "\n",
        "def modelo(processes):\n",
        "    # Instanciar el entorno y el modelo PPO\n",
        "    env = ProcessSchedulingEnv(processes)  # Crea el entorno de programación de procesos\n",
        "    model = PPO(\"MlpPolicy\", env, verbose=0)  # Crea el modelo PPO con una política MLP\n",
        "\n",
        "    # Entrenamiento del modelo con un número determinado de pasos\n",
        "    model.learn(total_timesteps=100)  # Aquí defines el número de timesteps para el entrenamiento\n",
        "\n",
        "    # Inicializa el entorno para evaluación\n",
        "    obs = env.reset()  # Resetea el entorno y obtiene la primera observación\n",
        "    done = False\n",
        "    while not done:\n",
        "        # Predicción de la acción a tomar con el modelo entrenado\n",
        "        action, _states = model.predict(obs, deterministic=False)  # predice la siguiente acción\n",
        "\n",
        "        # El modelo ejecuta la acción en el entorno\n",
        "        obs, reward, done, info = env.step(action)  # El entorno avanza un paso con la acción tomada\n",
        "\n",
        "    # Retorna la mejor ejecución registrada después de completar el proceso\n",
        "    return env.best_execution  # Devuelve la mejor ejecución encontrada durante el entrenamiento\n"
      ],
      "metadata": {
        "id": "OwLKPlT9XlJv",
        "colab": {
          "base_uri": "https://localhost:8080/"
        },
        "outputId": "48e44c56-aa8a-4513-c116-d04961925d83"
      },
      "execution_count": 11,
      "outputs": [
        {
          "output_type": "stream",
          "name": "stderr",
          "text": [
            "/usr/local/lib/python3.10/dist-packages/ipykernel/ipkernel.py:283: DeprecationWarning: `should_run_async` will not call `transform_cell` automatically in the future. Please pass the result to `transformed_cell` argument and any exception that happen during thetransform in `preprocessing_exc_tuple` in IPython 7.17 and above.\n",
            "  and should_run_async(code)\n",
            "/usr/local/lib/python3.10/dist-packages/tensorflow/lite/python/util.py:55: DeprecationWarning: jax.xla_computation is deprecated. Please use the AOT APIs; see https://jax.readthedocs.io/en/latest/aot.html. For example, replace xla_computation(f)(*xs) with jit(f).lower(*xs).compiler_ir('hlo'). See CHANGELOG.md for 0.4.30 for more examples.\n",
            "  from jax import xla_computation as _xla_computation\n"
          ]
        }
      ]
    },
    {
      "cell_type": "markdown",
      "source": [
        "# Pruebas"
      ],
      "metadata": {
        "id": "Hqa6ynXeyg4y"
      }
    },
    {
      "cell_type": "markdown",
      "source": [
        "##Definir procesos"
      ],
      "metadata": {
        "id": "oQtgvgPayU_R"
      }
    },
    {
      "cell_type": "code",
      "source": [
        "# Definimos una lista de procesos con nombre, tiempo de llegada y tiempo de ejecución\n",
        "processes = [\n",
        "    {'name': 'A', 'arrival_time': 0, 'run_time': 5},\n",
        "    {'name': 'B', 'arrival_time': 0, 'run_time': 4},\n",
        "    {'name': 'C', 'arrival_time': 5, 'run_time': 3},\n",
        "]"
      ],
      "metadata": {
        "id": "4MkIxApJI4EG"
      },
      "execution_count": 13,
      "outputs": []
    },
    {
      "cell_type": "markdown",
      "source": [
        "##FCFS"
      ],
      "metadata": {
        "id": "sfw_PqndyYaH"
      }
    },
    {
      "cell_type": "code",
      "source": [
        "# Ejecutar el algoritmo FCFS (First-Come, First-Served) sobre los procesos\n",
        "scheduling = fcfs(processes)\n",
        "print(scheduling)  # Imprimir el resultado del algoritmo FCFS, que es el orden en que se ejecutan los procesos\n",
        "\n",
        "# Calcular el tiempo de turnaround (TT) usando el resultado del scheduling\n",
        "tt = t_turnaround(scheduling, processes)\n",
        "# Calcular el tiempo de respuesta (TR) usando el resultado del scheduling\n",
        "tr = t_response(scheduling, processes)\n",
        "\n",
        "# Graficar el plan de ejecución de los procesos, mostrando los tiempos de turnaround y respuesta en el eje x\n",
        "plot_scheduling(scheduling, tt, tr)"
      ],
      "metadata": {
        "colab": {
          "base_uri": "https://localhost:8080/",
          "height": 251
        },
        "id": "dzsF6KoKkIVo",
        "outputId": "d1398b6b-ca5a-4860-895c-966f873cbfc4"
      },
      "execution_count": 14,
      "outputs": [
        {
          "output_type": "stream",
          "name": "stdout",
          "text": [
            "[('A', 5), ('B', 9), ('C', 12)]\n"
          ]
        },
        {
          "output_type": "display_data",
          "data": {
            "text/plain": [
              "<Figure size 1000x200 with 1 Axes>"
            ],
            "image/png": "[encoded data removed]"
          },
          "metadata": {}
        }
      ]
    },
    {
      "cell_type": "markdown",
      "source": [
        "##SJF"
      ],
      "metadata": {
        "id": "nz1TF0TlyiN4"
      }
    },
    {
      "cell_type": "code",
      "source": [
        "# Ejecutar el algoritmo SJF (Shortest Job First) sobre los procesos\n",
        "scheduling = sjf(processes)\n",
        "print(scheduling)  # Imprimir el resultado del algoritmo SJF, que es el orden en que se ejecutan los procesos\n",
        "\n",
        "# Calcular el tiempo de turnaround (TT) usando el resultado del scheduling\n",
        "tt = t_turnaround(scheduling, processes)\n",
        "# Calcular el tiempo de respuesta (TR) usando el resultado del scheduling\n",
        "tr = t_response(scheduling, processes)\n",
        "\n",
        "# Graficar el plan de ejecución de los procesos, mostrando los tiempos de turnaround y respuesta en el eje x\n",
        "plot_scheduling(scheduling, tt, tr)"
      ],
      "metadata": {
        "colab": {
          "base_uri": "https://localhost:8080/",
          "height": 251
        },
        "id": "ulGRTANdxLVv",
        "outputId": "3d19f1ba-561c-4bbb-fcf5-89df28198f32"
      },
      "execution_count": 15,
      "outputs": [
        {
          "output_type": "stream",
          "name": "stdout",
          "text": [
            "[('B', 4), ('A', 9), ('C', 12)]\n"
          ]
        },
        {
          "output_type": "display_data",
          "data": {
            "text/plain": [
              "<Figure size 1000x200 with 1 Axes>"
            ],
            "image/png": "[encoded data removed]"
          },
          "metadata": {}
        }
      ]
    },
    {
      "cell_type": "markdown",
      "source": [
        "##STCF"
      ],
      "metadata": {
        "id": "Vu94DjAHe9z-"
      }
    },
    {
      "cell_type": "code",
      "source": [
        "# Ejecutar el algoritmo STCF (Shortest Time to Completion First) sobre los procesos\n",
        "scheduling = stcf(processes)\n",
        "print(scheduling)  # Imprimir el resultado del algoritmo STCF, que es el orden en que se ejecutan los procesos\n",
        "\n",
        "# Calcular el tiempo de turnaround (TT) usando el resultado del scheduling\n",
        "tt = t_turnaround(scheduling, processes)\n",
        "# Calcular el tiempo de respuesta (TR) usando el resultado del scheduling\n",
        "tr = t_response(scheduling, processes)\n",
        "\n",
        "# Graficar el plan de ejecución de los procesos, mostrando los tiempos de turnaround y respuesta en el eje x\n",
        "plot_scheduling(scheduling, tt, tr)"
      ],
      "metadata": {
        "colab": {
          "base_uri": "https://localhost:8080/",
          "height": 251
        },
        "id": "EqLUcljFe2af",
        "outputId": "9e54916e-162b-4aac-b37b-374c7480a8a9"
      },
      "execution_count": 16,
      "outputs": [
        {
          "output_type": "stream",
          "name": "stdout",
          "text": [
            "[('B', 4), ('A', 5), ('C', 8), ('A', 12)]\n"
          ]
        },
        {
          "output_type": "display_data",
          "data": {
            "text/plain": [
              "<Figure size 1000x200 with 1 Axes>"
            ],
            "image/png": "[encoded data removed]"
          },
          "metadata": {}
        }
      ]
    },
    {
      "cell_type": "markdown",
      "source": [
        "##RR"
      ],
      "metadata": {
        "id": "6FOaZ1palQ5o"
      }
    },
    {
      "cell_type": "code",
      "source": [
        "# Ejecutar el algoritmo Round Robin (RR) con un quantum sobre los procesos\n",
        "scheduling = rr(processes, 1)\n",
        "print(scheduling)  # Imprimir el resultado del algoritmo RR, que es el orden en que se ejecutan los procesos\n",
        "\n",
        "# Calcular el tiempo de turnaround (TT) usando el resultado del scheduling\n",
        "tt = t_turnaround(scheduling, processes)\n",
        "# Calcular el tiempo de respuesta (TR) usando el resultado del scheduling\n",
        "tr = t_response(scheduling, processes)\n",
        "\n",
        "# Graficar el plan de ejecución de los procesos, mostrando los tiempos de turnaround y respuesta en el eje x\n",
        "plot_scheduling(scheduling, tt, tr)\n"
      ],
      "metadata": {
        "colab": {
          "base_uri": "https://localhost:8080/",
          "height": 251
        },
        "id": "Z_lbxMOPlQdY",
        "outputId": "61946197-7a65-4184-c69a-0c296e449039"
      },
      "execution_count": 17,
      "outputs": [
        {
          "output_type": "stream",
          "name": "stdout",
          "text": [
            "[('B', 1), ('A', 2), ('B', 3), ('A', 4), ('B', 5), ('C', 6), ('A', 7), ('B', 8), ('C', 9), ('A', 10), ('C', 11), ('A', 12)]\n"
          ]
        },
        {
          "output_type": "display_data",
          "data": {
            "text/plain": [
              "<Figure size 1000x200 with 1 Axes>"
            ],
            "image/png": "[encoded data removed]"
          },
          "metadata": {}
        }
      ]
    },
    {
      "cell_type": "markdown",
      "source": [
        "##Modelo"
      ],
      "metadata": {
        "id": "biXI4HWke5_1"
      }
    },
    {
      "cell_type": "code",
      "source": [
        "# Ejecutar el modelo de aprendizaje automático con los procesos proporcionados\n",
        "scheduling = modelo(processes)\n",
        "print(scheduling)  # Imprimir el resultado de la ejecución del modelo, que es el orden de los procesos y sus tiempos de finalización\n",
        "\n",
        "# Calcular el tiempo de turnaround (TT) usando el resultado del scheduling del modelo\n",
        "tt = t_turnaround(scheduling, processes)\n",
        "# Calcular el tiempo de respuesta (TR) usando el resultado del scheduling del modelo\n",
        "tr = t_response(scheduling, processes)\n",
        "\n",
        "# Graficar el plan de ejecución de los procesos, mostrando los tiempos de turnaround y respuesta en el eje x\n",
        "plot_scheduling(scheduling, tt, tr)"
      ],
      "metadata": {
        "colab": {
          "base_uri": "https://localhost:8080/",
          "height": 306
        },
        "id": "gvtn_FR-9FCJ",
        "outputId": "7cacce97-c94c-423f-ebf7-43cb89bcbb49"
      },
      "execution_count": 18,
      "outputs": [
        {
          "output_type": "stream",
          "name": "stderr",
          "text": [
            "/usr/local/lib/python3.10/dist-packages/stable_baselines3/common/vec_env/patch_gym.py:49: UserWarning: You provided an OpenAI Gym environment. We strongly recommend transitioning to Gymnasium environments. Stable-Baselines3 is automatically wrapping your environments in a compatibility layer, which could potentially cause issues.\n",
            "  warnings.warn(\n"
          ]
        },
        {
          "output_type": "stream",
          "name": "stdout",
          "text": [
            "[('B', 1), ('A', 2), ('B', 5), ('C', 8), ('A', 12)]\n"
          ]
        },
        {
          "output_type": "display_data",
          "data": {
            "text/plain": [
              "<Figure size 1000x200 with 1 Axes>"
            ],
            "image/png": "[encoded data removed]"
          },
          "metadata": {}
        }
      ]
    }
  ]
}